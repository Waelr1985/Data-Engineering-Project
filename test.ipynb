{
 "cells": [
  {
   "cell_type": "code",
   "execution_count": 1,
   "metadata": {},
   "outputs": [
    {
     "name": "stdout",
     "output_type": "stream",
     "text": [
      "Checking if SDK path exists: True\n",
      "Checking if surface path exists: True\n",
      "Contents of the SDK directory:\n",
      "['.install', 'bin', 'completion.bash.inc', 'completion.zsh.inc', 'data', 'deb', 'install.bat', 'install.sh', 'lib', 'LICENSE', 'path.bash.inc', 'path.fish.inc', 'path.zsh.inc', 'platform', 'properties', 'README', 'RELEASE_NOTES', 'rpm', 'VERSION']\n",
      "Contents of the lib directory:\n",
      "['gcloud.py', 'googlecloudsdk', 'surface', 'third_party', '__pycache__']\n"
     ]
    }
   ],
   "source": [
    "import os\n",
    "\n",
    "sdk_path = r\"C:\\Users\\waelr\\AppData\\Local\\Google\\Cloud SDK\\google-cloud-sdk\"\n",
    "surface_path = os.path.join(sdk_path, \"lib\", \"surface\")\n",
    "\n",
    "print(f\"Checking if SDK path exists: {os.path.exists(sdk_path)}\")\n",
    "print(f\"Checking if surface path exists: {os.path.exists(surface_path)}\")\n",
    "\n",
    "if os.path.exists(sdk_path):\n",
    "    print(\"\\\n",
    "Contents of the SDK directory:\")\n",
    "    print(os.listdir(sdk_path))\n",
    "    \n",
    "    lib_path = os.path.join(sdk_path, \"lib\")\n",
    "    if os.path.exists(lib_path):\n",
    "        print(\"\\\n",
    "Contents of the lib directory:\")\n",
    "        print(os.listdir(lib_path))"
   ]
  },
  {
   "cell_type": "code",
   "execution_count": 1,
   "metadata": {},
   "outputs": [
    {
     "name": "stdout",
     "output_type": "stream",
     "text": [
      "Content of power/exception/__init__.py:\n",
      "import os\n",
      "\n",
      "\n",
      "def error_message_detail(error, error_detail):\n",
      "    _, _, exc_tb = error_detail.exc_info()\n",
      "\n",
      "    file_name = os.path.split(exc_tb.tb_frame.f_code.co_filename)[1]\n",
      "    error_message = \"Error occurred python script name [{0}] line number [{1}] error message [{2}]\".format(\n",
      "        file_name, exc_tb.tb_lineno, str(error)\n",
      "    )\n",
      "    return error_message\n",
      "\n",
      "\n",
      "class PowerException(Exception):\n",
      "    def __init__(self, error_message, error_detail):\n",
      "        \"\"\"\n",
      "        :param error_message: error message in string format\n",
      "        \"\"\"\n",
      "        super().__init__(error_message)\n",
      "        self.error_message = error_message_detail(\n",
      "            error_message, error_detail=error_detail\n",
      "        )\n",
      "\n",
      "    def __str__(self):\n",
      "        return self.error_message\n",
      "The file D:\\Data-Engineering-Project\\power\\exception\\custom_exception.py does not exist.\n"
     ]
    }
   ],
   "source": [
    "import os\n",
    "\n",
    "exception_init_path = r\"D:\\Data-Engineering-Project\\power\\exception\\__init__.py\"\n",
    "\n",
    "if os.path.exists(exception_init_path):\n",
    "    with open(exception_init_path, 'r') as file:\n",
    "        content = file.read()\n",
    "        print(\"Content of power/exception/__init__.py:\")\n",
    "        print(content)\n",
    "else:\n",
    "    print(f\"The file {exception_init_path} does not exist.\")\n",
    "\n",
    "# Also, let's check if there's a custom_exception.py file\n",
    "custom_exception_path = r\"D:\\Data-Engineering-Project\\power\\exception\\custom_exception.py\"\n",
    "\n",
    "if os.path.exists(custom_exception_path):\n",
    "    with open(custom_exception_path, 'r') as file:\n",
    "        content = file.read()\n",
    "        print(\"\\\n",
    "Content of power/exception/custom_exception.py:\")\n",
    "        print(content)\n",
    "else:\n",
    "    print(f\"\\\n",
    "The file {custom_exception_path} does not exist.\")"
   ]
  }
 ],
 "metadata": {
  "kernelspec": {
   "display_name": "spark",
   "language": "python",
   "name": "python3"
  },
  "language_info": {
   "codemirror_mode": {
    "name": "ipython",
    "version": 3
   },
   "file_extension": ".py",
   "mimetype": "text/x-python",
   "name": "python",
   "nbconvert_exporter": "python",
   "pygments_lexer": "ipython3",
   "version": "3.8.20"
  }
 },
 "nbformat": 4,
 "nbformat_minor": 2
}
